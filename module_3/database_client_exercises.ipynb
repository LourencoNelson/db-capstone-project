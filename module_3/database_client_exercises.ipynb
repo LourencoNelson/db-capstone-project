{
 "cells": [
  {
   "cell_type": "code",
   "execution_count": 5,
   "id": "b87dd600-db3e-46ff-8dd2-7d4ca53720be",
   "metadata": {},
   "outputs": [
    {
     "name": "stdout",
     "output_type": "stream",
     "text": [
      "Requirement already satisfied: mysql-connector-python in /home/lourenco/.local/share/virtualenvs/db-7Atv4UhW/lib/python3.12/site-packages (8.4.0)\n"
     ]
    }
   ],
   "source": [
    "!pip install mysql-connector-python"
   ]
  },
  {
   "cell_type": "code",
   "execution_count": 6,
   "id": "c567e313-87a1-4be3-ab67-d323fbfa90be",
   "metadata": {},
   "outputs": [],
   "source": [
    "import mysql.connector as connector"
   ]
  },
  {
   "cell_type": "code",
   "execution_count": 4,
   "id": "ead2dadf-0461-4402-acbc-bcf17acef07a",
   "metadata": {},
   "outputs": [],
   "source": [
    "connection = connector.connect(user = \"wade\", password = \"damnn\")"
   ]
  },
  {
   "cell_type": "code",
   "execution_count": null,
   "id": "48f161b6-8e6e-4fb4-a83c-fbad3811b1ad",
   "metadata": {},
   "outputs": [],
   "source": [
    "\"\"\"Exercise 2: Add query functions \"\"\""
   ]
  },
  {
   "cell_type": "code",
   "execution_count": null,
   "id": "fd08ea09-0f3b-4789-b30f-d3bfb34646e2",
   "metadata": {},
   "outputs": [],
   "source": [
    "# TASK 1:"
   ]
  },
  {
   "cell_type": "code",
   "execution_count": 7,
   "id": "862f0284-fd7d-4218-84f4-4df127c48f3f",
   "metadata": {},
   "outputs": [],
   "source": [
    "connection = connector.connect(user = \"wade\", password = \"damnn\", db = \"LittleLemonDB\") "
   ]
  },
  {
   "cell_type": "code",
   "execution_count": 9,
   "id": "3ad72a0c-170f-4463-80fe-8432ded5ea81",
   "metadata": {},
   "outputs": [],
   "source": [
    "cursor = connection.cursor()"
   ]
  },
  {
   "cell_type": "code",
   "execution_count": null,
   "id": "11c14edc-2336-4324-aea8-dc66f8c3d660",
   "metadata": {},
   "outputs": [],
   "source": [
    "#TASK 2:"
   ]
  },
  {
   "cell_type": "code",
   "execution_count": 10,
   "id": "f0c8305e-3e73-4745-a3f2-bbfb9b3d59e9",
   "metadata": {},
   "outputs": [],
   "source": [
    "cursor.execute('SHOW TABLES')"
   ]
  },
  {
   "cell_type": "code",
   "execution_count": 11,
   "id": "e0781ffd-c4d5-4802-9a2b-923cca97663d",
   "metadata": {},
   "outputs": [
    {
     "name": "stdout",
     "output_type": "stream",
     "text": [
      "[('Bookings',), ('Customers',), ('MenuItems',), ('Menus',), ('Orders',)]\n"
     ]
    }
   ],
   "source": [
    "results = cursor.fetchall()\n",
    "print(results)"
   ]
  },
  {
   "cell_type": "code",
   "execution_count": null,
   "id": "3824e41b-87ac-48b5-bb6c-4cd52a51326b",
   "metadata": {},
   "outputs": [],
   "source": [
    "# TASK 3:"
   ]
  },
  {
   "cell_type": "code",
   "execution_count": 16,
   "id": "f07fc952-61a4-48f3-ab06-17cfbd7d9aac",
   "metadata": {},
   "outputs": [],
   "source": [
    "stmt = \"\"\"\n",
    "    SELECT \n",
    "        Customers.FullName as 'Full Name', \n",
    "        Customers.ContactNumber as 'Contact',\n",
    "        Orders.TotalCost as 'Bill Amount'\n",
    "    FROM \n",
    "        Customers \n",
    "    INNER JOIN \n",
    "        Orders \n",
    "    ON \n",
    "        Customers.CustomerID = Orders.CustomerID\n",
    "    WHERE \n",
    "        Orders.TotalCost > 60;\n",
    "\"\"\"\n",
    "cursor.execute(stmt)"
   ]
  },
  {
   "cell_type": "code",
   "execution_count": 17,
   "id": "76ecfe22-7378-4292-a042-88cd3321a095",
   "metadata": {},
   "outputs": [
    {
     "name": "stdout",
     "output_type": "stream",
     "text": [
      "[('Eve Martinez', '678-901-2345', Decimal('80'))]\n"
     ]
    }
   ],
   "source": [
    "results = cursor.fetchall()\n",
    "print(results)"
   ]
  },
  {
   "cell_type": "code",
   "execution_count": null,
   "id": "42169152-e6e2-45bd-8add-ce65d42f7946",
   "metadata": {},
   "outputs": [],
   "source": []
  },
  {
   "cell_type": "code",
   "execution_count": null,
   "id": "41d948c2-f649-4306-a61d-5b951e0f21e1",
   "metadata": {},
   "outputs": [],
   "source": []
  }
 ],
 "metadata": {
  "kernelspec": {
   "display_name": "Python 3 (ipykernel)",
   "language": "python",
   "name": "python3"
  },
  "language_info": {
   "codemirror_mode": {
    "name": "ipython",
    "version": 3
   },
   "file_extension": ".py",
   "mimetype": "text/x-python",
   "name": "python",
   "nbconvert_exporter": "python",
   "pygments_lexer": "ipython3",
   "version": "3.12.3"
  }
 },
 "nbformat": 4,
 "nbformat_minor": 5
}
